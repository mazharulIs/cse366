{
  "nbformat": 4,
  "nbformat_minor": 0,
  "metadata": {
    "colab": {
      "name": "task01_pulse code modulation.ipynb",
      "provenance": [],
      "collapsed_sections": []
    },
    "kernelspec": {
      "name": "python3",
      "display_name": "Python 3"
    },
    "language_info": {
      "name": "python"
    }
  },
  "cells": [
    {
      "cell_type": "markdown",
      "metadata": {
        "id": "PHJQS3gqLard"
      },
      "source": [
        "Name:Md.Mazharul Islam Chowdhury\n",
        "\n",
        "reg no:2017331056\n"
      ]
    },
    {
      "cell_type": "markdown",
      "metadata": {
        "id": "Xy2fg7rOC0gE"
      },
      "source": [
        "Program to simulate analog to didgital signal\n",
        "\n",
        "Pulse code modulation is used to simulate the analog digital signal:\n",
        "\n",
        " A PCM has three steps processes:\n",
        "\n",
        "1.sampling\n",
        "\n",
        "2.quantization\n",
        "\n",
        "3.converting quantized values into a bit stream\n"
      ]
    },
    {
      "cell_type": "code",
      "metadata": {
        "id": "gC6KKYCpED8k"
      },
      "source": [
        "# import necessary library\n",
        "import numpy as np\n",
        "import matplotlib.pyplot as plt\n",
        "import math"
      ],
      "execution_count": null,
      "outputs": []
    },
    {
      "cell_type": "markdown",
      "metadata": {
        "id": "q7qff0U2G97u"
      },
      "source": [
        "the signal is:\n",
        "     \n",
        "     v(t)=Asin(2*3.1416*ft) "
      ]
    },
    {
      "cell_type": "code",
      "metadata": {
        "colab": {
          "base_uri": "https://localhost:8080/",
          "height": 265
        },
        "id": "muH9drgqHmw2",
        "outputId": "69fa1896-bea7-44e5-920f-15b485664f1e"
      },
      "source": [
        "'''\n",
        "A - Amplitude of the signal\n",
        "f - Frequency of the signal\n",
        "t - Time variable of the signal\n",
        "T - Time period of the signal\n",
        "'''\n",
        "A = 8                           \n",
        "f = 2\n",
        "T = 1 / f\n",
        "t = np.linspace(0, 2.0, 120)\n",
        "y = A * np.sin(2.0 * np.pi * f * t)\n",
        "plt.plot(t, y)\n",
        "plt.show()"
      ],
      "execution_count": null,
      "outputs": [
        {
          "output_type": "display_data",
          "data": {
            "image/png": "[encoded data removed]",
            "text/plain": [
              "<Figure size 432x288 with 1 Axes>"
            ]
          },
          "metadata": {
            "needs_background": "light"
          }
        }
      ]
    },
    {
      "cell_type": "markdown",
      "metadata": {
        "id": "vihumJIQIx94"
      },
      "source": [
        "1.Sampling:\n",
        "\n",
        "\n",
        "Recording an analog signal at evenly spaced instants in time creates samples.\n",
        "\n",
        "Say, the signal $v(t)=cos(2πft)$ is sampled uniformly with n sampling intervals within each signal period T.\n",
        "\n",
        "Sampling is the process of recording an analog signal at regular discrete moments of time.The sampling rate $fs$ is the number of samples per second. The time interval between samples is called the sampling interval $Ts=1/Fs$.\n",
        "\n",
        "If a signal $v(t)=cos(2πft)$ is uniormly sampled at $n$ (number of sample per interval) over a time period $T$, then the sampling interval $Ts=T/n$ and the sampling rate $Fs=nf$.$$Ts = T/n = 1/nf$$$$Ts = 1/Fs$$$$Fs = nf$$\n",
        "\n",
        "The sampled signal of the analog signal $v(t)$ is expressed by $v[n]$, where $n$ is the index of the samples.\n",
        "\n",
        "When $n=0$ sample is taken from the $t=0$ time point of the analog signal When $n=1$ sample must come from the $t=Ts$ time point, because $Ts$ is the sampling interval.\n",
        "\n",
        "So, the sequence of samples can be written as $v[0]=v(0)$, $v[1]=v(Ts)$, $v[2]=v(2Ts)$, and so on.\n",
        "\n",
        "So,$$v[n]=v(nTs)$$"
      ]
    },
    {
      "cell_type": "code",
      "metadata": {
        "colab": {
          "base_uri": "https://localhost:8080/",
          "height": 319
        },
        "id": "Uf3YnyXpLJjW",
        "outputId": "d73816b2-f474-4b1b-8d22-e756071c0fcd"
      },
      "source": [
        "\n",
        "'''\n",
        "\n",
        "n = number_of_sample_per_interval\n",
        "Fs = sampling rateT\n",
        "Ts = sampling interval\n",
        "\n",
        "'''\n",
        "\n",
        "n = 18\n",
        "Fs = n * f\n",
        "Ts=np.arange(0, 2, 1 / Fs)\n",
        "xs=A*np.sin(2*np.pi*f*Ts);\n",
        "# xs Sampled signal \n",
        "plt.stem(Ts, xs)\n",
        "plt.show()"
      ],
      "execution_count": null,
      "outputs": [
        {
          "output_type": "stream",
          "name": "stderr",
          "text": [
            "/usr/local/lib/python3.7/dist-packages/ipykernel_launcher.py:15: UserWarning: In Matplotlib 3.3 individual lines on a stem plot will be added as a LineCollection instead of individual lines. This significantly improves the performance of a stem plot. To remove this warning and switch to the new behaviour, set the \"use_line_collection\" keyword argument to True.\n",
            "  from ipykernel import kernelapp as app\n"
          ]
        },
        {
          "output_type": "display_data",
          "data": {
            "image/png": "[encoded data removed]",
            "text/plain": [
              "<Figure size 432x288 with 1 Axes>"
            ]
          },
          "metadata": {
            "needs_background": "light"
          }
        }
      ]
    },
    {
      "cell_type": "markdown",
      "metadata": {
        "id": "G0b4TFu5QR_f"
      },
      "source": [
        "Quantization:\n",
        "\n",
        "Quantizing samples to levels and then to sequences of bits leads to quantization error.\n",
        "\n",
        "The result of sampling is a series of pulses with amplitude values between the maximum and minimum amplitudes of the signal. Because of the sampled values can potentially take on a continuous range of values, these values cannot be used in the encoding process.\n",
        "\n",
        "In analog to digital conversion, each sample value is mapped to a discrete level (represented by a sequence of bits). This is known as the Quantization process.\n",
        "\n",
        "In a $B-bit$ quantizer, each quantization level is represented with $B$ bits, so that the number of levels equals $L = 2^B$\n",
        "\n",
        "The following are the steps in quantization:\n",
        "\n",
        "We assume that the original analog signal has instantaneous amplitudes between $Vmin$ and $Vmax$\n",
        "\n",
        "1.We divide the amplitude range into L zones, each of height $\\Delta$ (delta).$$\\Delta = \\frac{Vmax - Vmin}{L}$$\n",
        "\n",
        "2.We assign quantized values of 0 to $L - 1$ to the midpoint of each level zone.\n",
        "\n",
        "3.We approximate the value of the sample amplitude to the quantized values.\n",
        "\n",
        "If we decide to have eight levels (b-bit = 3, L = 8, height = $\\Delta$), then our partitioned amplitude will be from $-4\\Delta$ to $4\\Delta$.\n",
        "\n",
        "As the quantized value is the midpoint of each level zone,\n",
        "\n",
        ".the value between $4\\Delta$ and $3\\Delta$ will be quantized into their midpoint, $3\\Delta$+${\\Delta/2}$, also assigned the encode value 7.\n",
        "\n",
        ".the value between $3\\Delta$ and $3\\Delta$ will be quantized into their midpoint, $2\\Delta$+${\\Delta/2}$, also assigned the encode value 6. and so on...\n",
        "\n",
        "\n",
        "\n",
        "To find midpoint of each level zone(for assigning these midpoint as quantized value):\n",
        "\n",
        ".Partition/divide the amplitude range with height $\\Delta$\n",
        "\n",
        ".Decrease each of the parition value by ${\\Delta/2}$ (called codebook)\n",
        "\n",
        ".Assign the numbers in each interval of the codebook to the corresponding partition number(quantized value).\n",
        "\n",
        ".To make quantize value inbetween the levels, increased each quantized value by ${\\Delta/2}$"
      ]
    },
    {
      "cell_type": "code",
      "metadata": {
        "colab": {
          "base_uri": "https://localhost:8080/",
          "height": 302
        },
        "id": "FEfSCwqjT0Er",
        "outputId": "41c8e2d2-fdf9-4666-f73c-5e92d42f95ce"
      },
      "source": [
        "\n",
        "'''\n",
        "\n",
        "b_bit = b-bit quantizer, number of bits required to encode each quantization level. \n",
        "L = uniformly spaced quantization levels\n",
        "partition = level are between vmin and vmax with difference of delta\n",
        "codebook = decrease the partition by half of delta\n",
        "xq = quantized signal\n",
        "encode = assigned codec\n",
        "\n",
        "'''\n",
        "b_bit = 3\n",
        "L = 2 ** b_bit\n",
        "vmax=A;\n",
        "vmin=-vmax;\n",
        "delta=(vmax-vmin)/L;\n",
        "partition = np.arange(vmin, vmax, delta)\n",
        "codebook= np.arange(vmin-(delta/2),vmax+(delta/2), delta) \n",
        "\n",
        "xq = np.copy(xs)\n",
        "encode = np.copy(xs)\n",
        "\n",
        "for i in range(len(partition)):\n",
        "  left = codebook[i]\n",
        "  right = codebook[i + 1]\n",
        "  for j in range(len(xs)):\n",
        "    # left <= xs[i] < right\n",
        "    if(i != len(partition) - 1 and left <= xs[j] and xs[j] < right):\n",
        "      xq[j] = partition[i]\n",
        "      encode[j] = i\n",
        "    # left <= xs[i], only for last portion\n",
        "    if(i == len(partition) - 1 and left <= xs[j]):\n",
        "      xq[j] = partition[i]\n",
        "      encode[j] = i\n",
        "\n",
        "for i in range(len(xq)):\n",
        "    xq[i] = xq[i] + (delta / 2) \n",
        "\n",
        "plt.stem(Ts, xq)\n",
        "plt.show()"
      ],
      "execution_count": null,
      "outputs": [
        {
          "output_type": "stream",
          "name": "stderr",
          "text": [
            "/usr/local/lib/python3.7/dist-packages/ipykernel_launcher.py:39: UserWarning: In Matplotlib 3.3 individual lines on a stem plot will be added as a LineCollection instead of individual lines. This significantly improves the performance of a stem plot. To remove this warning and switch to the new behaviour, set the \"use_line_collection\" keyword argument to True.\n"
          ]
        },
        {
          "output_type": "display_data",
          "data": {
            "image/png": "[encoded data removed]",
            "text/plain": [
              "<Figure size 432x288 with 1 Axes>"
            ]
          },
          "metadata": {
            "needs_background": "light"
          }
        }
      ]
    },
    {
      "cell_type": "markdown",
      "metadata": {
        "id": "8JpfVVsiU88J"
      },
      "source": [
        " Encoding:\n",
        "\n",
        "1.Convert the assigned decimal codec to the binary codec\n",
        "\n",
        "2.Append all the binary codec into an array of 0 and 1.\n",
        "\n",
        "3.plot a step graph"
      ]
    },
    {
      "cell_type": "code",
      "metadata": {
        "colab": {
          "base_uri": "https://localhost:8080/",
          "height": 320
        },
        "id": "wmnouzYTVGkJ",
        "outputId": "f23f7f52-5ee4-473d-c7bd-c0d31dc9cf42"
      },
      "source": [
        "def decimalToBinary(val, bit):\n",
        "    binary = \"{0:b}\".format(int(val))\n",
        "    if(len(binary) > bit):\n",
        "      return binary\n",
        "    extra_zero = bit - len(binary)\n",
        "    return extra_zero * \"0\" + binary\n",
        "\n",
        "binary_codec = []\n",
        "for i in range(len(encode)):\n",
        "  binary = decimalToBinary(encode[i], b_bit)\n",
        "  for j in range(len(binary)):\n",
        "    binary_codec.append(binary[j])\n",
        "\n",
        "pos = np.arange(len(binary_codec))\n",
        "plt.figure(figsize=(20, 5))\n",
        "plt.ylim(-1, 2)\n",
        "plt.step(pos, binary_codec)\n",
        "plt.show()"
      ],
      "execution_count": null,
      "outputs": [
        {
          "output_type": "display_data",
          "data": {
            "image/png": "[encoded data removed]",
            "text/plain": [
              "<Figure size 1440x360 with 1 Axes>"
            ]
          },
          "metadata": {
            "needs_background": "light"
          }
        }
      ]
    }
  ]
}